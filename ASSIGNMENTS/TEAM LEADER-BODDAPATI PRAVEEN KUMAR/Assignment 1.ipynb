{
  "nbformat": 4,
  "nbformat_minor": 0,
  "metadata": {
    "colab": {
      "provenance": []
    },
    "kernelspec": {
      "name": "python3",
      "display_name": "Python 3"
    },
    "language_info": {
      "name": "python"
    }
  },
  "cells": [
    {
      "cell_type": "code",
      "execution_count": 1,
      "metadata": {
        "id": "DxOhuPcWIYK_"
      },
      "outputs": [],
      "source": [
        "# Task1-Create two lists and join those two lists"
      ]
    },
    {
      "cell_type": "code",
      "source": [
        "list1=[1,2,88,9,0]"
      ],
      "metadata": {
        "id": "NePH4H1xInPG"
      },
      "execution_count": 2,
      "outputs": []
    },
    {
      "cell_type": "code",
      "source": [
        "list2=[15,55,38,9,3]"
      ],
      "metadata": {
        "id": "vgvMMxmlI2jP"
      },
      "execution_count": 3,
      "outputs": []
    },
    {
      "cell_type": "code",
      "source": [
        "list3=list1+list2"
      ],
      "metadata": {
        "id": "PzBh8QQJMare"
      },
      "execution_count": 4,
      "outputs": []
    },
    {
      "cell_type": "code",
      "source": [
        "print('join list: '+str(list3))"
      ],
      "metadata": {
        "colab": {
          "base_uri": "https://localhost:8080/"
        },
        "id": "7RlkFPQnI_aV",
        "outputId": "0d867e35-4392-493e-e867-830b2342c5cd"
      },
      "execution_count": 5,
      "outputs": [
        {
          "output_type": "stream",
          "name": "stdout",
          "text": [
            "join list: [1, 2, 88, 9, 0, 15, 55, 38, 9, 3]\n"
          ]
        }
      ]
    },
    {
      "cell_type": "code",
      "source": [
        "# Task2-with 'if' statement find the even numbers"
      ],
      "metadata": {
        "id": "MO6FnLTxPLaV"
      },
      "execution_count": 6,
      "outputs": []
    },
    {
      "cell_type": "code",
      "source": [
        "a = int(input(\"Enter a : \"))\n",
        "if((a%2)==0):\n",
        "  print(\"even\")\n",
        "else:\n",
        "    print(\"odd\")"
      ],
      "metadata": {
        "colab": {
          "base_uri": "https://localhost:8080/"
        },
        "id": "YrNO-9UGPeaP",
        "outputId": "ee75644a-9c62-4142-c74a-3b267de1068b"
      },
      "execution_count": 7,
      "outputs": [
        {
          "output_type": "stream",
          "name": "stdout",
          "text": [
            "Enter a : 6\n",
            "even\n"
          ]
        }
      ]
    },
    {
      "cell_type": "code",
      "source": [
        "# Task3-create a dictionary with 3 keys and 2 values for each key"
      ],
      "metadata": {
        "id": "EgpJOWQqNBpA"
      },
      "execution_count": 8,
      "outputs": []
    },
    {
      "cell_type": "code",
      "source": [
        "demo = {'first':[3,9],\n",
        "         'second':[8,7],\n",
        "         'third':[6,5]}"
      ],
      "metadata": {
        "id": "7gGwz3JPNVct"
      },
      "execution_count": 9,
      "outputs": []
    },
    {
      "cell_type": "markdown",
      "source": [],
      "metadata": {
        "id": "PbV2435HWpHh"
      }
    },
    {
      "cell_type": "code",
      "source": [
        "example=demo['first']"
      ],
      "metadata": {
        "id": "J2a9GiGOOgBw"
      },
      "execution_count": 10,
      "outputs": []
    },
    {
      "cell_type": "code",
      "source": [
        "print(example)"
      ],
      "metadata": {
        "colab": {
          "base_uri": "https://localhost:8080/"
        },
        "id": "Nhg5c8qnO3w1",
        "outputId": "eefd71dc-838b-43f0-9c2c-f965c1063d31"
      },
      "execution_count": 11,
      "outputs": [
        {
          "output_type": "stream",
          "name": "stdout",
          "text": [
            "[3, 9]\n"
          ]
        }
      ]
    },
    {
      "cell_type": "code",
      "source": [
        "# Task4-Create a function with 'if' statement to find odd numbers"
      ],
      "metadata": {
        "id": "2hU0nD_rPA8Q"
      },
      "execution_count": 12,
      "outputs": []
    },
    {
      "cell_type": "code",
      "source": [
        "b=int(input(\"enter b :\"))\n",
        "if((b%2)==0):\n",
        "  print(\"not odd\")\n",
        "else:\n",
        "    print(\"it is odd\")"
      ],
      "metadata": {
        "colab": {
          "base_uri": "https://localhost:8080/"
        },
        "id": "OBEPyNOTXCYb",
        "outputId": "3d38b49f-f6ea-4269-ceee-f7261eec6e6b"
      },
      "execution_count": 13,
      "outputs": [
        {
          "output_type": "stream",
          "name": "stdout",
          "text": [
            "enter b :8\n",
            "not odd\n"
          ]
        }
      ]
    },
    {
      "cell_type": "code",
      "source": [
        "# Task5-write a python function to sum all the numbers in the list"
      ],
      "metadata": {
        "id": "sv869PzHVZnp"
      },
      "execution_count": 14,
      "outputs": []
    },
    {
      "cell_type": "code",
      "source": [
        "list=[8,9,9,2,4]"
      ],
      "metadata": {
        "id": "V8Vj2gJgZXBt"
      },
      "execution_count": 15,
      "outputs": []
    },
    {
      "cell_type": "code",
      "source": [
        "total=sum(list)"
      ],
      "metadata": {
        "id": "_a24323zZdY_"
      },
      "execution_count": 16,
      "outputs": []
    },
    {
      "cell_type": "code",
      "source": [
        "print(\"the sum of list is :\",total)"
      ],
      "metadata": {
        "colab": {
          "base_uri": "https://localhost:8080/"
        },
        "id": "Z3HFsblSZkTA",
        "outputId": "9ed76f88-5290-449e-8308-34bb52dfd594"
      },
      "execution_count": 17,
      "outputs": [
        {
          "output_type": "stream",
          "name": "stdout",
          "text": [
            "the sum of list is : 32\n"
          ]
        }
      ]
    }
  ]
}